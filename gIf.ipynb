{
 "cells": [
  {
   "cell_type": "markdown",
   "metadata": {},
   "source": [
    "<p style=\"text-align: center;\"><span style=\"font-size: 28px; color: rgb(0, 168, 133);\">Gases Ideales</span></p>"
   ]
  },
  {
   "cell_type": "code",
   "execution_count": 1,
   "metadata": {},
   "outputs": [],
   "source": [
    "import matplotlib.pyplot as plt\n",
    "import numpy as np\n",
    "import matplotlib as mpl\n",
    "from ipywidgets import interact\n",
    "import ipywidgets as widgets\n",
    "%matplotlib inline"
   ]
  },
  {
   "cell_type": "code",
   "execution_count": 2,
   "metadata": {},
   "outputs": [
    {
     "data": {
      "application/vnd.jupyter.widget-view+json": {
       "model_id": "12cf7973d8704c0489f581eba0e192f2",
       "version_major": 2,
       "version_minor": 0
      },
      "text/plain": [
       "interactive(children=(FloatSlider(value=2.75, description='n1', max=5.0, min=0.5), IntSlider(value=386, descri…"
      ]
     },
     "metadata": {},
     "output_type": "display_data"
    },
    {
     "data": {
      "text/plain": [
       "<function __main__.pvnrt(n1, T1, n2, T2)>"
      ]
     },
     "execution_count": 2,
     "metadata": {},
     "output_type": "execute_result"
    }
   ],
   "source": [
    "def pvnrt(n1,T1,n2,T2):\n",
    "    V = np.linspace(0.1,3,70)\n",
    "    R = 0.082\n",
    "    P1 = (n1*R*T1)/V\n",
    "    P2 = (n2*R*T2)/V\n",
    "    plt.figure(figsize=(9,6))\n",
    "    plt.plot(V,P1)\n",
    "    plt.plot(V,P2)\n",
    "    plt.show()\n",
    "    \n",
    "\n",
    "interact(pvnrt,n1=(0.5,5),T1=(273,500),n2=(0.5,5),T2=(273,500))\n"
   ]
  },
  {
   "cell_type": "markdown",
   "metadata": {},
   "source": [
    "<p style=\"margin: 0.5em 0px; color: rgb(32, 33, 34); font-family: sans-serif; font-size: 14px; font-style: normal; font-variant-ligatures: normal; font-variant-caps: normal; font-weight: 400; letter-spacing: normal; orphans: 2; text-align: start; text-indent: 0px; text-transform: none; white-space: normal; widows: 2; word-spacing: 0px; -webkit-text-stroke-width: 0px; background-color: rgb(255, 255, 255); text-decoration-style: initial; text-decoration-color: initial;\">La&nbsp;<strong>ley de los gases ideales</strong> es la&nbsp;<a href=\"https://es.wikipedia.org/wiki/Ecuaci%C3%B3n_de_estado\" style=\"text-decoration: none; color: rgb(11, 0, 128); background: none;\" title=\"Ecuación de estado\">ecuaci&oacute;n de estado</a> del&nbsp;<a href=\"https://es.wikipedia.org/wiki/Gas_ideal\" style=\"text-decoration: none; color: rgb(11, 0, 128); background: none;\" title=\"Gas ideal\">gas ideal</a>, un gas hipot&eacute;tico formado por part&iacute;culas puntuales sin atracci&oacute;n ni repulsi&oacute;n entre ellas y cuyos choques son perfectamente el&aacute;sticos (<a class=\"mw-redirect\" href=\"https://es.wikipedia.org/wiki/Ley_de_conservaci%C3%B3n\" style=\"text-decoration: none; color: rgb(11, 0, 128); background: none;\" title=\"Ley de conservación\">conservaci&oacute;n de momento</a> y&nbsp;<a href=\"https://es.wikipedia.org/wiki/Energ%C3%ADa_cin%C3%A9tica\" style=\"text-decoration: none; color: rgb(11, 0, 128); background: none;\" title=\"Energía cinética\">energ&iacute;a cin&eacute;tica</a>). La energ&iacute;a cin&eacute;tica es directamente proporcional a la temperatura en un gas ideal. Los&nbsp;<a href=\"https://es.wikipedia.org/wiki/Gas_real\" style=\"text-decoration: none; color: rgb(11, 0, 128); background: none;\" title=\"Gas real\">gases reales</a> que m&aacute;s se aproximan al comportamiento del gas ideal son los gases&nbsp;<a href=\"https://es.wikipedia.org/wiki/Monoat%C3%B3mico\" style=\"text-decoration: none; color: rgb(11, 0, 128); background: none;\" title=\"Monoatómico\">monoat&oacute;micos</a> en condiciones de baja presi&oacute;n y alta temperatura.</p>\n",
    "<p style=\"margin: 0.5em 0px; color: rgb(32, 33, 34); font-family: sans-serif; font-size: 14px; font-style: normal; font-variant-ligatures: normal; font-variant-caps: normal; font-weight: 400; letter-spacing: normal; orphans: 2; text-align: start; text-indent: 0px; text-transform: none; white-space: normal; widows: 2; word-spacing: 0px; -webkit-text-stroke-width: 0px; background-color: rgb(255, 255, 255); text-decoration-style: initial; text-decoration-color: initial;\">En 1648, el qu&iacute;mico&nbsp;<a href=\"https://es.wikipedia.org/wiki/Jan_Baptista_van_Helmont\" style=\"text-decoration: none; color: rgb(11, 0, 128); background: none;\" title=\"Jan Baptista van Helmont\">Jan Baptista van Helmont</a> cre&oacute; el vocablo&nbsp;<a href=\"https://es.wikipedia.org/wiki/Gas\" style=\"text-decoration: none; color: rgb(11, 0, 128); background: none;\" title=\"Gas\">gas</a>, a partir del t&eacute;rmino griego kaos (desorden) para definir las g&eacute;nesis caracter&iacute;sticas del&nbsp;<a class=\"mw-redirect\" href=\"https://es.wikipedia.org/wiki/Anh%C3%ADdrido_carb%C3%B3nico\" style=\"text-decoration: none; color: rgb(11, 0, 128); background: none;\" title=\"Anhídrido carbónico\">anh&iacute;drido carb&oacute;nico</a>. Esta denominaci&oacute;n se extendi&oacute; luego a todos los cuerpos gaseosos y se utiliza para designar uno de los estados de la materia.</p>\n",
    "<p style=\"margin: 0.5em 0px; color: rgb(32, 33, 34); font-family: sans-serif; font-size: 14px; font-style: normal; font-variant-ligatures: normal; font-variant-caps: normal; font-weight: 400; letter-spacing: normal; orphans: 2; text-align: start; text-indent: 0px; text-transform: none; white-space: normal; widows: 2; word-spacing: 0px; -webkit-text-stroke-width: 0px; background-color: rgb(255, 255, 255); text-decoration-style: initial; text-decoration-color: initial;\">La presi&oacute;n ejercida por una fuerza f&iacute;sica es inversamente proporcional al volumen de una masa gaseosa, siempre y cuando su temperatura se mantenga constante, o en t&eacute;rminos m&aacute;s sencillos:</p>\n",
    "<p style=\"margin: 0.5em 0px; color: rgb(32, 33, 34); font-family: sans-serif; font-size: 14px; font-style: normal; font-variant-ligatures: normal; font-variant-caps: normal; font-weight: 400; letter-spacing: normal; orphans: 2; text-align: start; text-indent: 0px; text-transform: none; white-space: normal; widows: 2; word-spacing: 0px; -webkit-text-stroke-width: 0px; background-color: rgb(255, 255, 255); text-decoration-style: initial; text-decoration-color: initial;\">A temperatura constante, el volumen de una masa fija de un gas es inversamente proporcional a la presi&oacute;n que este ejerce. Matem&aacute;ticamente se puede expresar as&iacute;:</p>\n",
    "<dl style=\"margin-top: 0.2em; margin-bottom: 0.5em; color: rgb(32, 33, 34); font-family: sans-serif; font-size: 14px; font-style: normal; font-variant-ligatures: normal; font-variant-caps: normal; font-weight: 400; letter-spacing: normal; orphans: 2; text-align: start; text-indent: 0px; text-transform: none; white-space: normal; widows: 2; word-spacing: 0px; -webkit-text-stroke-width: 0px; background-color: rgb(255, 255, 255); text-decoration-style: initial; text-decoration-color: initial;\">\n",
    "    <dd style=\"margin-left: 1.6em; margin-bottom: 0.1em; margin-right: 0px;\"><span class=\"mwe-math-element\"><span class=\"mwe-math-mathml-inline mwe-math-mathml-a11y\" style=\"display: none; clip: rect(1px, 1px, 1px, 1px); overflow: hidden; position: absolute; width: 1px; height: 1px; opacity: 0;\">{\\displaystyle PV=k}</span><img src=\"https://wikimedia.org/api/rest_v1/media/math/render/svg/ccec54c93d220c649f5ee495374ece8208247e3a\" class=\"mwe-math-fallback-image-inline\" alt=\"{\\displaystyle PV=k}\" style=\"border: 0px; width: 7.842ex; height: 2.176ex;\"></span></dd>\n",
    "</dl>\n",
    "<p style=\"margin: 0.5em 0px; color: rgb(32, 33, 34); font-family: sans-serif; font-size: 14px; font-style: normal; font-variant-ligatures: normal; font-variant-caps: normal; font-weight: 400; letter-spacing: normal; orphans: 2; text-align: start; text-indent: 0px; text-transform: none; white-space: normal; widows: 2; word-spacing: 0px; -webkit-text-stroke-width: 0px; background-color: rgb(255, 255, 255); text-decoration-style: initial; text-decoration-color: initial;\">donde&nbsp;<span class=\"mwe-math-element\"><span class=\"mwe-math-mathml-inline mwe-math-mathml-a11y\" style=\"display: none; clip: rect(1px, 1px, 1px, 1px); overflow: hidden; position: absolute; width: 1px; height: 1px; opacity: 0;\">{\\displaystyle k}</span><img src=\"https://wikimedia.org/api/rest_v1/media/math/render/svg/c3c9a2c7b599b37105512c5d570edc034056dd40\" class=\"mwe-math-fallback-image-inline\" alt=\"k\" style=\"border: 0px; width: 1.211ex; height: 2.176ex;\"></span> es constante si la temperatura y la masa del gas permanecen constantes.</p>\n",
    "<p style=\"margin: 0.5em 0px; color: rgb(32, 33, 34); font-family: sans-serif; font-size: 14px; font-style: normal; font-variant-ligatures: normal; font-variant-caps: normal; font-weight: 400; letter-spacing: normal; orphans: 2; text-align: start; text-indent: 0px; text-transform: none; white-space: normal; widows: 2; word-spacing: 0px; -webkit-text-stroke-width: 0px; background-color: rgb(255, 255, 255); text-decoration-style: initial; text-decoration-color: initial;\">Cuando aumenta la presi&oacute;n, el volumen baja, mientras que si la presi&oacute;n disminuye el volumen aumenta. No es necesario conocer el valor exacto de la constante&nbsp;<span class=\"mwe-math-element\"><span class=\"mwe-math-mathml-inline mwe-math-mathml-a11y\" style=\"display: none; clip: rect(1px, 1px, 1px, 1px); overflow: hidden; position: absolute; width: 1px; height: 1px; opacity: 0;\">{\\displaystyle k}</span><img src=\"https://wikimedia.org/api/rest_v1/media/math/render/svg/c3c9a2c7b599b37105512c5d570edc034056dd40\" class=\"mwe-math-fallback-image-inline\" alt=\"k\" style=\"border: 0px; width: 1.211ex; height: 2.176ex;\"></span> para poder hacer uso de la ley: si consideramos las dos situaciones de la figura, manteniendo constante la cantidad de gas y la temperatura, deber&aacute; cumplirse la relaci&oacute;n:</p>\n",
    "<dl style=\"margin-top: 0.2em; margin-bottom: 0.5em; color: rgb(32, 33, 34); font-family: sans-serif; font-size: 14px; font-style: normal; font-variant-ligatures: normal; font-variant-caps: normal; font-weight: 400; letter-spacing: normal; orphans: 2; text-align: start; text-indent: 0px; text-transform: none; white-space: normal; widows: 2; word-spacing: 0px; -webkit-text-stroke-width: 0px; background-color: rgb(255, 255, 255); text-decoration-style: initial; text-decoration-color: initial;\">\n",
    "    <dd style=\"margin-left: 1.6em; margin-bottom: 0.1em; margin-right: 0px;\"><span class=\"mwe-math-element\"><span class=\"mwe-math-mathml-inline mwe-math-mathml-a11y\" style=\"display: none; clip: rect(1px, 1px, 1px, 1px); overflow: hidden; position: absolute; width: 1px; height: 1px; opacity: 0;\">{\\displaystyle P_{1}V_{1}=P_{2}V_{2}\\,}</span><img src=\"https://wikimedia.org/api/rest_v1/media/math/render/svg/a2dd1868807950e6d55cd6205b1cfbff69b88fa3\" class=\"mwe-math-fallback-image-inline\" alt=\"{\\displaystyle P_{1}V_{1}=P_{2}V_{2}\\,}\" style=\"border: 0px; width: 13.398ex; height: 2.509ex;\"></span></dd>\n",
    "</dl>\n",
    "<p style=\"margin: 0.5em 0px; color: rgb(32, 33, 34); font-family: sans-serif; font-size: 14px; font-style: normal; font-variant-ligatures: normal; font-variant-caps: normal; font-weight: 400; letter-spacing: normal; orphans: 2; text-align: start; text-indent: 0px; text-transform: none; white-space: normal; widows: 2; word-spacing: 0px; -webkit-text-stroke-width: 0px; background-color: rgb(255, 255, 255); text-decoration-style: initial; text-decoration-color: initial;\">Las primeras&nbsp;<a href=\"https://es.wikipedia.org/wiki/Leyes_de_los_gases\" style=\"text-decoration: none; color: rgb(11, 0, 128); background: none;\" title=\"Leyes de los gases\">leyes de los gases</a> fueron desarrollados desde finales del siglo XVII, aparentemente de manera independiente por&nbsp;<a href=\"https://es.wikipedia.org/wiki/August_Kr%C3%B6nig\" style=\"text-decoration: none; color: rgb(11, 0, 128); background: none;\" title=\"August Krönig\">August Kr&ouml;nig</a> en 1856<sup class=\"reference separada\" style=\"line-height: 1em; unicode-bidi: isolate; white-space: nowrap; font-weight: normal; font-style: normal; margin-right: 0.6ch;\"><a href=\"https://es.wikipedia.org/wiki/Ley_de_los_gases_ideales#cite_note-1\" style=\"text-decoration: none; color: rgb(11, 0, 128); background: none; white-space: nowrap;\">1</a></sup> y&nbsp;<a href=\"https://es.wikipedia.org/wiki/Rudolf_Clausius\" style=\"text-decoration: none; color: rgb(11, 0, 128); background: none;\" title=\"Rudolf Clausius\">Rudolf Clausius</a> en 1857.<sup class=\"reference separada\" style=\"line-height: 1em; unicode-bidi: isolate; white-space: nowrap; font-weight: normal; font-style: normal; margin-right: 0.6ch;\"><a href=\"https://es.wikipedia.org/wiki/Ley_de_los_gases_ideales#cite_note-2\" style=\"text-decoration: none; color: rgb(11, 0, 128); background: none; white-space: nowrap;\">2</a></sup> La constante universal de los gases se descubri&oacute; y se introdujo por primera vez en la ley de los gases ideales en lugar de un gran n&uacute;mero de constantes de gases espec&iacute;ficas descritas por&nbsp;<a class=\"mw-redirect\" href=\"https://es.wikipedia.org/wiki/Dmitri_Mendeleev\" style=\"text-decoration: none; color: rgb(11, 0, 128); background: none;\" title=\"Dmitri Mendeleev\">Dmitri Mendeleev</a> en 1874.<sup class=\"reference separada\" style=\"line-height: 1em; unicode-bidi: isolate; white-space: nowrap; font-weight: normal; font-style: normal; margin-right: 0.6ch;\"><a href=\"https://es.wikipedia.org/wiki/Ley_de_los_gases_ideales#cite_note-3\" style=\"text-decoration: none; color: rgb(11, 0, 128); background: none; white-space: nowrap;\">3</a></sup><sup class=\"reference separada\" style=\"line-height: 1em; unicode-bidi: isolate; white-space: nowrap; font-weight: normal; font-style: normal; margin-right: 0.6ch;\"><a href=\"https://es.wikipedia.org/wiki/Ley_de_los_gases_ideales#cite_note-4\" style=\"text-decoration: none; color: rgb(11, 0, 128); background: none; white-space: nowrap;\">4</a></sup><sup class=\"reference separada\" style=\"line-height: 1em; unicode-bidi: isolate; white-space: nowrap; font-weight: normal; font-style: normal; margin-right: 0.6ch;\"><a href=\"https://es.wikipedia.org/wiki/Ley_de_los_gases_ideales#cite_note-5\" style=\"text-decoration: none; color: rgb(11, 0, 128); background: none; white-space: nowrap;\">5</a></sup></p>\n",
    "<p style=\"margin: 0.5em 0px; color: rgb(32, 33, 34); font-family: sans-serif; font-size: 14px; font-style: normal; font-variant-ligatures: normal; font-variant-caps: normal; font-weight: 400; letter-spacing: normal; orphans: 2; text-align: start; text-indent: 0px; text-transform: none; white-space: normal; widows: 2; word-spacing: 0px; -webkit-text-stroke-width: 0px; background-color: rgb(255, 255, 255); text-decoration-style: initial; text-decoration-color: initial;\">En este siglo, los cient&iacute;ficos empezaron a darse cuenta de que en las relaciones entre la presi&oacute;n, el volumen y la temperatura de una muestra de&nbsp;<a href=\"https://es.wikipedia.org/wiki/Gas\" style=\"text-decoration: none; color: rgb(11, 0, 128); background: none;\" title=\"Gas\">gas</a>, en un&nbsp;<a href=\"https://es.wikipedia.org/wiki/Sistema_cerrado\" style=\"text-decoration: none; color: rgb(11, 0, 128); background: none;\" title=\"Sistema cerrado\">sistema cerrado</a>, se podr&iacute;a obtener una f&oacute;rmula que ser&iacute;a v&aacute;lida para todos los gases. Estos se comportan de forma similar en una amplia variedad de condiciones debido a la buena aproximaci&oacute;n que tienen las mol&eacute;culas que se encuentran m&aacute;s separadas, y hoy en d&iacute;a la ecuaci&oacute;n de estado para un gas ideal se deriva de la&nbsp;<a href=\"https://es.wikipedia.org/wiki/Teor%C3%ADa_cin%C3%A9tica\" style=\"text-decoration: none; color: rgb(11, 0, 128); background: none;\" title=\"Teoría cinética\">teor&iacute;a cin&eacute;tica</a>. Ahora las leyes anteriores de los gases se consideran como casos especiales de la ecuaci&oacute;n del gas ideal, con una o m&aacute;s de las variables mantenidas constantes.</p>\n",
    "<p style=\"margin: 0.5em 0px; color: rgb(32, 33, 34); font-family: sans-serif; font-size: 14px; font-style: normal; font-variant-ligatures: normal; font-variant-caps: normal; font-weight: 400; letter-spacing: normal; orphans: 2; text-align: start; text-indent: 0px; text-transform: none; white-space: normal; widows: 2; word-spacing: 0px; -webkit-text-stroke-width: 0px; background-color: rgb(255, 255, 255); text-decoration-style: initial; text-decoration-color: initial;\">Emp&iacute;ricamente, se observan una serie de relaciones&nbsp;<a href=\"https://es.wikipedia.org/wiki/Proporcionalidad\" style=\"text-decoration: none; color: rgb(11, 0, 128); background: none;\" title=\"Proporcionalidad\">proporcionales</a> entre la&nbsp;<a href=\"https://es.wikipedia.org/wiki/Temperatura\" style=\"text-decoration: none; color: rgb(11, 0, 128); background: none;\" title=\"Temperatura\">temperatura</a>, la&nbsp;<a href=\"https://es.wikipedia.org/wiki/Presi%C3%B3n\" style=\"text-decoration: none; color: rgb(11, 0, 128); background: none;\" title=\"Presión\">presi&oacute;n</a> y el&nbsp;<a class=\"mw-redirect\" href=\"https://es.wikipedia.org/wiki/Volumen_(f%C3%ADsica)\" style=\"text-decoration: none; color: rgb(11, 0, 128); background: none;\" title=\"Volumen (física)\">volumen</a> que dan lugar a la ley de los gases ideales, deducida por primera vez por&nbsp;<a href=\"https://es.wikipedia.org/wiki/%C3%89mile_Clapeyron\" style=\"text-decoration: none; color: rgb(11, 0, 128); background: none;\" title=\"Émile Clapeyron\">&Eacute;mile Clapeyron</a> en&nbsp;<a href=\"https://es.wikipedia.org/wiki/1834\" style=\"text-decoration: none; color: rgb(11, 0, 128); background: none;\" title=\"1834\">1834</a> como una combinaci&oacute;n de la&nbsp;<a class=\"mw-redirect\" href=\"https://es.wikipedia.org/wiki/Ley_de_Boyle\" style=\"text-decoration: none; color: rgb(11, 0, 128); background: none;\" title=\"Ley de Boyle\">ley de Boyle</a> y la&nbsp;<a href=\"https://es.wikipedia.org/wiki/Ley_de_Charles\" style=\"text-decoration: none; color: rgb(11, 0, 128); background: none;\" title=\"Ley de Charles\">ley de Charles</a>.<sup class=\"reference separada\" style=\"line-height: 1em; unicode-bidi: isolate; white-space: nowrap; font-weight: normal; font-style: normal; margin-right: 0.6ch;\"><a href=\"https://es.wikipedia.org/wiki/Ley_de_los_gases_ideales#cite_note-6\" style=\"text-decoration: none; color: rgb(11, 0, 128); background: none; white-space: nowrap;\">6</a></sup></p>"
   ]
  },
  {
   "cell_type": "code",
   "execution_count": null,
   "metadata": {},
   "outputs": [],
   "source": []
  }
 ],
 "metadata": {
  "kernelspec": {
   "display_name": "Python 3",
   "language": "python",
   "name": "python3"
  },
  "language_info": {
   "codemirror_mode": {
    "name": "ipython",
    "version": 3
   },
   "file_extension": ".py",
   "mimetype": "text/x-python",
   "name": "python",
   "nbconvert_exporter": "python",
   "pygments_lexer": "ipython3",
   "version": "3.8.5"
  },
  "latex_envs": {
   "LaTeX_envs_menu_present": true,
   "autoclose": false,
   "autocomplete": true,
   "bibliofile": "biblio.bib",
   "cite_by": "apalike",
   "current_citInitial": 1,
   "eqLabelWithNumbers": true,
   "eqNumInitial": 1,
   "hotkeys": {
    "equation": "Ctrl-E",
    "itemize": "Ctrl-I"
   },
   "labels_anchors": false,
   "latex_user_defs": false,
   "report_style_numbering": false,
   "user_envs_cfg": false
  }
 },
 "nbformat": 4,
 "nbformat_minor": 4
}
